{
 "cells": [
  {
   "cell_type": "markdown",
   "id": "6d121ba9",
   "metadata": {},
   "source": [
    "# Pronalaženje početka replikacije"
   ]
  },
  {
   "cell_type": "markdown",
   "id": "378e3f66",
   "metadata": {},
   "source": [
    "## Naivni algoritam"
   ]
  },
  {
   "cell_type": "markdown",
   "id": "09dca5f2",
   "metadata": {},
   "source": [
    "Naivni algoritam prolazi kroz sekvencu i prebrojava pojavljivanje svake podniske dužine k"
   ]
  },
  {
   "cell_type": "code",
   "execution_count": 1,
   "id": "c383b603",
   "metadata": {},
   "outputs": [],
   "source": [
    "'''Prebrojavanje pojavljivanja zadatog uzorka u tekstu (naivni algoritam)'''\n",
    "def pattern_count(text, pattern):\n",
    "    count = 0 # Brojač pojavljivanja\n",
    "    \n",
    "    n = len(text)     # - Dužina teksta\n",
    "    k = len(pattern)  # - Dužina uzorka\n",
    "    for i in range(0, n - k + 1):\n",
    "        curr_pattern = text[i: i + k]\n",
    "        if curr_pattern == pattern:\n",
    "            count += 1\n",
    "\n",
    "    return count"
   ]
  },
  {
   "cell_type": "code",
   "execution_count": 2,
   "id": "8a0c30bf",
   "metadata": {},
   "outputs": [
    {
     "data": {
      "text/plain": [
       "4"
      ]
     },
     "execution_count": 2,
     "metadata": {},
     "output_type": "execute_result"
    }
   ],
   "source": [
    "text = 'CATAAATTTCGTATGTATCAAAATTTTGTTACTATCACATAAATTTCGTATGTATCAAAATTTTGTTACTATCA'\n",
    "pattern = 'AAATTT'\n",
    "pattern_count(text, pattern)"
   ]
  },
  {
   "cell_type": "code",
   "execution_count": 3,
   "id": "5a08a221",
   "metadata": {},
   "outputs": [],
   "source": [
    "'''Pronalaženje najzastupljenijih reči u tekstu (naivni pristup)'''\n",
    "def frequent_words(text, k):\n",
    "    frequent_words = set([])\n",
    "    n = len(text)\n",
    "    \n",
    "    counts = [0 for i in range(n - k + 1)] # - niz brojača, count(i) = broj pojavljivanja podniske text[i : i+k]\n",
    "\n",
    "    # Prebrojavanje pojavljivanja svih uzoraka dužine k\n",
    "    for i in range(n - k + 1):\n",
    "        pattern = text[i : i + k]\n",
    "        counts[i] = pattern_count(text, pattern)\n",
    "        \n",
    "    max_count = max(counts)\n",
    "    \n",
    "    # Izdvajanje najzastupljenijih uzoraka dužine k\n",
    "    for i in range(0, n - k + 1):\n",
    "        if counts[i] == max_count:\n",
    "            pattern = text[i : i + k]\n",
    "            frequent_words.add(pattern)\n",
    "    \n",
    "    return list(frequent_words)"
   ]
  },
  {
   "cell_type": "code",
   "execution_count": 4,
   "id": "d68e388b",
   "metadata": {},
   "outputs": [
    {
     "data": {
      "text/plain": [
       "['AAATTT']"
      ]
     },
     "execution_count": 4,
     "metadata": {},
     "output_type": "execute_result"
    }
   ],
   "source": [
    "text = 'CATAAATTTCGTATGTATCAAAATTTTGTTACTATCACATAAATTTCGTATGTATCAAAATTTTGTTACTATCA'\n",
    "k = 6\n",
    "frequent_words(text, k)"
   ]
  },
  {
   "cell_type": "markdown",
   "id": "5f9e167b",
   "metadata": {},
   "source": [
    "## Napredniji algoritam"
   ]
  },
  {
   "cell_type": "markdown",
   "id": "9f0a02ef",
   "metadata": {},
   "source": [
    "Napredniji algoritam koristi tehniku mapiranja uzoraka nukleotidnih sekvenci, sastavljenih od 4 nukleotida - A, T, C, i G, na brojeve. Sve sekvence dužine k mogu se mapirati na redne brojeve u intervalu $[0,4^{k}-1]$ "
   ]
  },
  {
   "cell_type": "code",
   "execution_count": 5,
   "id": "d3825c2c",
   "metadata": {},
   "outputs": [],
   "source": [
    "'''Mapiranje pojedinačnih nukleotida na brojeve'''\n",
    "\n",
    "def symbol_to_number(symbol):\n",
    "    mapping = {\n",
    "        'A': 0,\n",
    "        'T': 1,\n",
    "        'C': 2,\n",
    "        'G': 3\n",
    "    }\n",
    "    upper_symbol = symbol.upper()\n",
    "    \n",
    "    if symbol not in mapping:\n",
    "        print('Invalid symbol')\n",
    "        return None\n",
    "    \n",
    "    return mapping[symbol]"
   ]
  },
  {
   "cell_type": "code",
   "execution_count": 6,
   "id": "082222b2",
   "metadata": {},
   "outputs": [
    {
     "data": {
      "text/plain": [
       "0"
      ]
     },
     "execution_count": 6,
     "metadata": {},
     "output_type": "execute_result"
    }
   ],
   "source": [
    "symbol_to_number('A')"
   ]
  },
  {
   "cell_type": "code",
   "execution_count": 7,
   "id": "f92e378c",
   "metadata": {},
   "outputs": [],
   "source": [
    "'''\n",
    "Mapiranje sekvence na broj - ekvivalentno prevođenju broja iz sistema sa osnovom 4\n",
    "u broj dekadnog sistema (A = 0, T = 1, C = 2, G = 3)\n",
    "'''\n",
    "\n",
    "def pattern_to_number(pattern):\n",
    "    if len(pattern) == 1:\n",
    "        return symbol_to_number(pattern)\n",
    "    \n",
    "    prefix = pattern[:-1]\n",
    "    last_symbol = pattern[-1]\n",
    "    \n",
    "    return pattern_to_number(prefix) * 4 + symbol_to_number(last_symbol)"
   ]
  },
  {
   "cell_type": "code",
   "execution_count": 8,
   "id": "7784de0c",
   "metadata": {},
   "outputs": [
    {
     "name": "stdout",
     "output_type": "stream",
     "text": [
      "38\n",
      "38\n"
     ]
    }
   ],
   "source": [
    "print(pattern_to_number('AAAAAAACTC'))\n",
    "print(pattern_to_number('AACTC'))"
   ]
  },
  {
   "cell_type": "code",
   "execution_count": 9,
   "id": "2482c868",
   "metadata": {},
   "outputs": [],
   "source": [
    "'''Mapiranje brojeve iz intervala [0-3] na nukleotide'''\n",
    "\n",
    "def number_to_symbol(number):\n",
    "    mapping = {\n",
    "        0: 'A',\n",
    "        1: 'T',\n",
    "        2: 'C',\n",
    "        3: 'G'\n",
    "    }\n",
    "    if number not in [0,1,2,3]:\n",
    "        print('Invalid number')\n",
    "        return None\n",
    "    \n",
    "    return mapping[number]"
   ]
  },
  {
   "cell_type": "code",
   "execution_count": 10,
   "id": "066544ea",
   "metadata": {},
   "outputs": [
    {
     "data": {
      "text/plain": [
       "'G'"
      ]
     },
     "execution_count": 10,
     "metadata": {},
     "output_type": "execute_result"
    }
   ],
   "source": [
    "number_to_symbol(3)"
   ]
  },
  {
   "cell_type": "code",
   "execution_count": 11,
   "id": "83bba6d6",
   "metadata": {},
   "outputs": [],
   "source": [
    "'''\n",
    "Mapiranje broja na sekvencu zadate dužine - ekvivalentno prevođenju broja iz sistema sa osnovom 10\n",
    "u zapis broja u sistemu sa osnovom 4\n",
    "'''\n",
    "\n",
    "def number_to_pattern(number, k):\n",
    "    if k == 1:\n",
    "        return number_to_symbol(number)\n",
    "    \n",
    "    prefix = number // 4\n",
    "    remainder = number % 4\n",
    "    \n",
    "    return number_to_pattern(prefix, k - 1) + number_to_symbol(remainder)"
   ]
  },
  {
   "cell_type": "code",
   "execution_count": 12,
   "id": "6d3067e5",
   "metadata": {},
   "outputs": [
    {
     "name": "stdout",
     "output_type": "stream",
     "text": [
      "AAACTC\n",
      "CTC\n"
     ]
    }
   ],
   "source": [
    "print(number_to_pattern(38, 6))\n",
    "print(number_to_pattern(38, 3))"
   ]
  },
  {
   "cell_type": "code",
   "execution_count": 13,
   "id": "395583c2",
   "metadata": {},
   "outputs": [],
   "source": [
    "'''\n",
    "Prebrojavanje pojavljivanja uzoraka dužine k u tekstu\n",
    "na osnovu mapiranja nukleotidnih sekvenci u broj\n",
    "'''\n",
    "\n",
    "def computing_frequencies(text, k):\n",
    "    frequency_array = [0 for _ in range(4 ** k)] # - Niz brojača, frequency_array[i] = broj pojavljivanja uzorka i\n",
    "    n = len(text)\n",
    "    for i in range(0, n - k + 1):\n",
    "        pattern = text[i : i + k] # - Izdvajanje uzorka\n",
    "        j = pattern_to_number(pattern) # - Prevođenje uzorka u broj\n",
    "        frequency_array[j] += 1 # - Inkrementacija brojača\n",
    "        \n",
    "    return frequency_array"
   ]
  },
  {
   "cell_type": "code",
   "execution_count": 14,
   "id": "2e72b287",
   "metadata": {},
   "outputs": [
    {
     "data": {
      "text/plain": [
       "[1, 1, 0, 0, 0, 0, 2, 0, 0, 0, 0, 2, 1, 1, 0, 0]"
      ]
     },
     "execution_count": 14,
     "metadata": {},
     "output_type": "execute_result"
    }
   ],
   "source": [
    "computing_frequencies('ATCGTCGAA',2)"
   ]
  },
  {
   "cell_type": "code",
   "execution_count": 15,
   "id": "5b077371",
   "metadata": {},
   "outputs": [],
   "source": [
    "'''\n",
    "Implementacija naprednijeg algoritma za pronalaženje najzastupljenijih\n",
    "podniski dužine k u okviru nukleotidnih sekvenci\n",
    "'''\n",
    "\n",
    "def faster_frequent_words(text, k):\n",
    "    frequent_patterns = set([])\n",
    "    \n",
    "    frequency_array = computing_frequencies(text, k) # - Prebrojavanje uzoraka dužine k\n",
    "    \n",
    "    max_count = max(frequency_array)\n",
    "    \n",
    "    for i in range(0, 4 ** k):\n",
    "        if frequency_array[i] == max_count:\n",
    "            pattern = number_to_pattern(i, k)\n",
    "            frequent_patterns.add(pattern)\n",
    "    \n",
    "    return list(frequent_patterns)"
   ]
  },
  {
   "cell_type": "code",
   "execution_count": 16,
   "id": "9e681a0a",
   "metadata": {},
   "outputs": [
    {
     "data": {
      "text/plain": [
       "4"
      ]
     },
     "execution_count": 16,
     "metadata": {},
     "output_type": "execute_result"
    }
   ],
   "source": [
    "text = 'CATAAATTTCGTATGTATCAAAATTTTGTTACTATCACATAAATTTCGTATGTATCAAAATTTTGTTACTATCA'\n",
    "pattern = 'AAATTT'\n",
    "pattern_count(text, pattern)"
   ]
  },
  {
   "cell_type": "markdown",
   "id": "f81e0cf9",
   "metadata": {},
   "source": [
    "## Efikasnija implementacija naprednog algoritma"
   ]
  },
  {
   "cell_type": "markdown",
   "id": "5ccd0f69",
   "metadata": {},
   "source": [
    "Efikasnija implementacija se zasniva na korišćenju strukture heš mape (`dict`) koja, analogno prethodnom mapiranju nukleotidnih sekvenci na broj, efikasno vrši skladištenje i indeksiranje bez čuvanja informacija o sekvencama koje se nisu ni pojavile"
   ]
  },
  {
   "cell_type": "code",
   "execution_count": 17,
   "id": "00e5687d",
   "metadata": {},
   "outputs": [],
   "source": [
    "'''\n",
    "Efikasnija implementacija algoritma za prebrojavanje\n",
    "nukleotidnih podsekvenci\n",
    "'''\n",
    "def computing_frequencies_dict(text, k):\n",
    "    frequency_array = dict([])\n",
    "    n = len(text)\n",
    "    for i in range(0, n - k + 1):\n",
    "        pattern = text[i : i + k]\n",
    "        if pattern not in frequency_array:\n",
    "            frequency_array[pattern] = 1\n",
    "        else:\n",
    "            frequency_array[pattern] += 1\n",
    "        \n",
    "    return frequency_array"
   ]
  },
  {
   "cell_type": "code",
   "execution_count": 18,
   "id": "d4b7695d",
   "metadata": {},
   "outputs": [
    {
     "data": {
      "text/plain": [
       "{'AT': 1, 'TC': 2, 'CG': 2, 'GT': 1, 'GA': 1, 'AA': 1}"
      ]
     },
     "execution_count": 18,
     "metadata": {},
     "output_type": "execute_result"
    }
   ],
   "source": [
    "computing_frequencies_dict('ATCGTCGAA',2)"
   ]
  },
  {
   "cell_type": "code",
   "execution_count": 19,
   "id": "f799bf80",
   "metadata": {},
   "outputs": [],
   "source": [
    "'''\n",
    "Efikasnija implementacija algoritma za pronalaženje najzastupljenijih\n",
    "podniski dužine k u okviru nukleotidnih sekvenci\n",
    "'''\n",
    "\n",
    "def faster_frequent_words_dict(text, k):\n",
    "    frequent_patterns = set([])\n",
    "    frequency_array = computing_frequencies_dict(text, k)\n",
    "    \n",
    "    max_count = max(frequency_array.values())\n",
    "    \n",
    "    n = len(text)\n",
    "    for pattern, count in frequency_array.items():\n",
    "        if count == max_count:\n",
    "#             pattern = number_to_pattern(i, k)\n",
    "            frequent_patterns.add(pattern)\n",
    "    \n",
    "    return list(frequent_patterns)"
   ]
  },
  {
   "cell_type": "code",
   "execution_count": 20,
   "id": "7f9c39b6",
   "metadata": {},
   "outputs": [
    {
     "data": {
      "text/plain": [
       "['AAATTT']"
      ]
     },
     "execution_count": 20,
     "metadata": {},
     "output_type": "execute_result"
    }
   ],
   "source": [
    "text = 'CATAAATTTCGTATGTATCAAAATTTTGTTACTATCACATAAATTTCGTATGTATCAAAATTTTGTTACTATCACATAAATTTCGTATGTATCAAAATTTTGTTACTATCACATAAATTTCGTATGTATCAAAATTTTGTTACTATCACATAAATTTCGTATGTATCAAAATTTTGTTACTATCACATAAATTTCGTATGTATCAAAATTTTGTTACTATCACATAAATTTCGTATGTATCAAAATTTTGTTACTATCACATAAATTTCGTATGTATCAAAATTTTGTTACTATCACATAAATTTCGTATGTATCAAAATTTTGTTACTATCACATAAATTTCGTATGTATCAAAATTTTGTTACTATCACATAAATTTCGTATGTATCAAAATTTTGTTACTATCACATAAATTTCGTATGTATCAAAATTTTGTTACTATCACATAAATTTCGTATGTATCAAAATTTTGTTACTATCACATAAATTTCGTATGTATCAAAATTTTGTTACTATCACATAAATTTCGTATGTATCAAAATTTTGTTACTATCACATAAATTTCGTATGTATCAAAATTTTGTTACTATCACATAAATTTCGTATGTATCAAAATTTTGTTACTATCACATAAATTTCGTATGTATCAAAATTTTGTTACTATCACATAAATTTCGTATGTATCAAAATTTTGTTACTATCACATAAATTTCGTATGTATCAAAATTTTGTTACTATCACATAAATTTCGTATGTATCAAAATTTTGTTACTATCACATAAATTTCGTATGTATCAAAATTTTGTTACTATCACATAAATTTCGTATGTATCAAAATTTTGTTACTATCACATAAATTTCGTATGTATCAAAATTTTGTTACTATCACATAAATTTCGTATGTATCAAAATTTTGTTACTATCACATAAATTTCGTATGTATCAAAATTTTGTTACTATCACATAAATTTCGTATGTATCAAAATTTTGTTACTATCACATAAATTTCGTATGTATCAAAATTTTGTTACTATCACATAAATTTCGTATGTATCAAAATTTTGTTACTATCACATAAATTTCGTATGTATCAAAATTTTGTTACTATCACATAAATTTCGTATGTATCAAAATTTTGTTACTATCACATAAATTTCGTATGTATCAAAATTTTGTTACTATCACATAAATTTCGTATGTATCAAAATTTTGTTACTATCACATAAATTTCGTATGTATCAAAATTTTGTTACTATCACATAAATTTCGTATGTATCAAAATTTTGTTACTATCACATAAATTTCGTATGTATCAAAATTTTGTTACTATCACATAAATTTCGTATGTATCAAAATTTTGTTACTATCACATAAATTTCGTATGTATCAAAATTTTGTTACTATCACATAAATTTCGTATGTATCAAAATTTTGTTACTATCACATAAATTTCGTATGTATCAAAATTTTGTTACTATCACATAAATTTCGTATGTATCAAAATTTTGTTACTATCACATAAATTTCGTATGTATCAAAATTTTGTTACTATCACATAAATTTCGTATGTATCAAAATTTTGTTACTATCACATAAATTTCGTATGTATCAAAATTTTGTTACTATCACATAAATTTCGTATGTATCAAAATTTTGTTACTATCACATAAATTTCGTATGTATCAAAATTTTGTTACTATCACATAAATTTCGTATGTATCAAAATTTTGTTACTATCACATAAATTTCGTATGTATCAAAATTTTGTTACTATCACATAAATTTCGTATGTATCAAAATTTTGTTACTATCACATAAATTTCGTATGTATCAAAATTTTGTTACTATCACATAAATTTCGTATGTATCAAAATTTTGTTACTATCACATAAATTTCGTATGTATCAAAATTTTGTTACTATCACATAAATTTCGTATGTATCAAAATTTTGTTACTATCACATAAATTTCGTATGTATCAAAATTTTGTTACTATCACATAAATTTCGTATGTATCAAAATTTTGTTACTATCACATAAATTTCGTATGTATCAAAATTTTGTTACTATCACATAAATTTCGTATGTATCAAAATTTTGTTACTATCACATAAATTTCGTATGTATCAAAATTTTGTTACTATCACATAAATTTCGTATGTATCAAAATTTTGTTACTATCACATAAATTTCGTATGTATCAAAATTTTGTTACTATCACATAAATTTCGTATGTATCAAAATTTTGTTACTATCACATAAATTTCGTATGTATCAAAATTTTGTTACTATCACATAAATTTCGTATGTATCAAAATTTTGTTACTATCACATAAATTTCGTATGTATCAAAATTTTGTTACTATCACATAAATTTCGTATGTATCAAAATTTTGTTACTATCACATAAATTTCGTATGTATCAAAATTTTGTTACTATCACATAAATTTCGTATGTATCAAAATTTTGTTACTATCACATAAATTTCGTATGTATCAAAATTTTGTTACTATCACATAAATTTCGTATGTATCAAAATTTTGTTACTATCACATAAATTTCGTATGTATCAAAATTTTGTTACTATCACATAAATTTCGTATGTATCAAAATTTTGTTACTATCACATAAATTTCGTATGTATCAAAATTTTGTTACTATCACATAAATTTCGTATGTATCAAAATTTTGTTACTATCACATAAATTTCGTATGTATCAAAATTTTGTTACTATCACATAAATTTCGTATGTATCAAAATTTTGTTACTATCACATAAATTTCGTATGTATCAAAATTTTGTTACTATCACATAAATTTCGTATGTATCAAAATTTTGTTACTATCACATAAATTTCGTATGTATCAAAATTTTGTTACTATCACATAAATTTCGTATGTATCAAAATTTTGTTACTATCACATAAATTTCGTATGTATCAAAATTTTGTTACTATCACATAAATTTCGTATGTATCAAAATTTTGTTACTATCACATAAATTTCGTATGTATCAAAATTTTGTTACTATCACATAAATTTCGTATGTATCAAAATTTTGTTACTATCACATAAATTTCGTATGTATCAAAATTTTGTTACTATCACATAAATTTCGTATGTATCAAAATTTTGTTACTATCACATAAATTTCGTATGTATCAAAATTTTGTTACTATCACATAAATTTCGTATGTATCAAAATTTTGTTACTATCACATAAATTTCGTATGTATCAAAATTTTGTTACTATCACATAAATTTCGTATGTATCAAAATTTTGTTACTATCACATAAATTTCGTATGTATCAAAATTTTGTTACTATCACATAAATTTCGTATGTATCAAAATTTTGTTACTATCACATAAATTTCGTATGTATCAAAATTTTGTTACTATCACATAAATTTCGTATGTATCAAAATTTTGTTACTATCACATAAATTTCGTATGTATCAAAATTTTGTTACTATCACATAAATTTCGTATGTATCAAAATTTTGTTACTATCACATAAATTTCGTATGTATCAAAATTTTGTTACTATCACATAAATTTCGTATGTATCAAAATTTTGTTACTATCACATAAATTTCGTATGTATCAAAATTTTGTTACTATCACATAAATTTCGTATGTATCAAAATTTTGTTACTATCACATAAATTTCGTATGTATCAAAATTTTGTTACTATCACATAAATTTCGTATGTATCAAAATTTTGTTACTATCACATAAATTTCGTATGTATCAAAATTTTGTTACTATCACATAAATTTCGTATGTATCAAAATTTTGTTACTATCACATAAATTTCGTATGTATCAAAATTTTGTTACTATCACATAAATTTCGTATGTATCAAAATTTTGTTACTATCACATAAATTTCGTATGTATCAAAATTTTGTTACTATCACATAAATTTCGTATGTATCAAAATTTTGTTACTATCACATAAATTTCGTATGTATCAAAATTTTGTTACTATCACATAAATTTCGTATGTATCAAAATTTTGTTACTATCACATAAATTTCGTATGTATCAAAATTTTGTTACTATCACATAAATTTCGTATGTATCAAAATTTTGTTACTATCACATAAATTTCGTATGTATCAAAATTTTGTTACTATCACATAAATTTCGTATGTATCAAAATTTTGTTACTATCACATAAATTTCGTATGTATCAAAATTTTGTTACTATCACATAAATTTCGTATGTATCAAAATTTTGTTACTATCACATAAATTTCGTATGTATCAAAATTTTGTTACTATCACATAAATTTCGTATGTATCAAAATTTTGTTACTATCACATAAATTTCGTATGTATCAAAATTTTGTTACTATCACATAAATTTCGTATGTATCAAAATTTTGTTACTATCACATAAATTTCGTATGTATCAAAATTTTGTTACTATCACATAAATTTCGTATGTATCAAAATTTTGTTACTATCACATAAATTTCGTATGTATCAAAATTTTGTTACTATCACATAAATTTCGTATGTATCAAAATTTTGTTACTATCACATAAATTTCGTATGTATCAAAATTTTGTTACTATCACATAAATTTCGTATGTATCAAAATTTTGTTACTATCACATAAATTTCGTATGTATCAAAATTTTGTTACTATCACATAAATTTCGTATGTATCAAAATTTTGTTACTATCACATAAATTTCGTATGTATCAAAATTTTGTTACTATCACATAAATTTCGTATGTATCAAAATTTTGTTACTATCACATAAATTTCGTATGTATCAAAATTTTGTTACTATCACATAAATTTCGTATGTATCAAAATTTTGTTACTATCACATAAATTTCGTATGTATCAAAATTTTGTTACTATCACATAAATTTCGTATGTATCAAAATTTTGTTACTATCACATAAATTTCGTATGTATCAAAATTTTGTTACTATCACATAAATTTCGTATGTATCAAAATTTTGTTACTATCACATAAATTTCGTATGTATCAAAATTTTGTTACTATCACATAAATTTCGTATGTATCAAAATTTTGTTACTATCACATAAATTTCGTATGTATCAAAATTTTGTTACTATCACATAAATTTCGTATGTATCAAAATTTTGTTACTATCACATAAATTTCGTATGTATCAAAATTTTGTTACTATCACATAAATTTCGTATGTATCAAAATTTTGTTACTATCACATAAATTTCGTATGTATCAAAATTTTGTTACTATCACATAAATTTCGTATGTATCAAAATTTTGTTACTATCACATAAATTTCGTATGTATCAAAATTTTGTTACTATCACATAAATTTCGTATGTATCAAAATTTTGTTACTATCACATAAATTTCGTATGTATCAAAATTTTGTTACTATCACATAAATTTCGTATGTATCAAAATTTTGTTACTATCACATAAATTTCGTATGTATCAAAATTTTGTTACTATCACATAAATTTCGTATGTATCAAAATTTTGTTACTATCACATAAATTTCGTATGTATCAAAATTTTGTTACTATCACATAAATTTCGTATGTATCAAAATTTTGTTACTATCACATAAATTTCGTATGTATCAAAATTTTGTTACTATCACATAAATTTCGTATGTATCAAAATTTTGTTACTATCACATAAATTTCGTATGTATCAAAATTTTGTTACTATCACATAAATTTCGTATGTATCAAAATTTTGTTACTATCACATAAATTTCGTATGTATCAAAATTTTGTTACTATCACATAAATTTCGTATGTATCAAAATTTTGTTACTATCACATAAATTTCGTATGTATCAAAATTTTGTTACTATCACATAAATTTCGTATGTATCAAAATTTTGTTACTATCACATAAATTTCGTATGTATCAAAATTTTGTTACTATCACATAAATTTCGTATGTATCAAAATTTTGTTACTATCACATAAATTTCGTATGTATCAAAATTTTGTTACTATCACATAAATTTCGTATGTATCAAAATTTTGTTACTATCACATAAATTTCGTATGTATCAAAATTTTGTTACTATCACATAAATTTCGTATGTATCAAAATTTTGTTACTATCACATAAATTTCGTATGTATCAAAATTTTGTTACTATCACATAAATTTCGTATGTATCAAAATTTTGTTACTATCACATAAATTTCGTATGTATCAAAATTTTGTTACTATCACATAAATTTCGTATGTATCAAAATTTTGTTACTATCACATAAATTTCGTATGTATCAAAATTTTGTTACTATCACATAAATTTCGTATGTATCAAAATTTTGTTACTATCACATAAATTTCGTATGTATCAAAATTTTGTTACTATCACATAAATTTCGTATGTATCAAAATTTTGTTACTATCACATAAATTTCGTATGTATCAAAATTTTGTTACTATCACATAAATTTCGTATGTATCAAAATTTTGTTACTATCACATAAATTTCGTATGTATCAAAATTTTGTTACTATCACATAAATTTCGTATGTATCAAAATTTTGTTACTATCACATAAATTTCGTATGTATCAAAATTTTGTTACTATCACATAAATTTCGTATGTATCAAAATTTTGTTACTATCACATAAATTTCGTATGTATCAAAATTTTGTTACTATCACATAAATTTCGTATGTATCAAAATTTTGTTACTATCACATAAATTTCGTATGTATCAAAATTTTGTTACTATCACATAAATTTCGTATGTATCAAAATTTTGTTACTATCACATAAATTTCGTATGTATCAAAATTTTGTTACTATCACATAAATTTCGTATGTATCAAAATTTTGTTACTATCACATAAATTTCGTATGTATCAAAATTTTGTTACTATCACATAAATTTCGTATGTATCAAAATTTTGTTACTATCACATAAATTTCGTATGTATCAAAATTTTGTTACTATCACATAAATTTCGTATGTATCAAAATTTTGTTACTATCACATAAATTTCGTATGTATCAAAATTTTGTTACTATCACATAAATTTCGTATGTATCAAAATTTTGTTACTATCACATAAATTTCGTATGTATCAAAATTTTGTTACTATCACATAAATTTCGTATGTATCAAAATTTTGTTACTATCACATAAATTTCGTATGTATCAAAATTTTGTTACTATCACATAAATTTCGTATGTATCAAAATTTTGTTACTATCACATAAATTTCGTATGTATCAAAATTTTGTTACTATCACATAAATTTCGTATGTATCAAAATTTTGTTACTATCACATAAATTTCGTATGTATCAAAATTTTGTTACTATCACATAAATTTCGTATGTATCAAAATTTTGTTACTATCACATAAATTTCGTATGTATCAAAATTTTGTTACTATCACATAAATTTCGTATGTATCAAAATTTTGTTACTATCACATAAATTTCGTATGTATCAAAATTTTGTTACTATCACATAAATTTCGTATGTATCAAAATTTTGTTACTATCACATAAATTTCGTATGTATCAAAATTTTGTTACTATCACATAAATTTCGTATGTATCAAAATTTTGTTACTATCACATAAATTTCGTATGTATCAAAATTTTGTTACTATCACATAAATTTCGTATGTATCAAAATTTTGTTACTATCACATAAATTTCGTATGTATCAAAATTTTGTTACTATCACATAAATTTCGTATGTATCAAAATTTTGTTACTATCACATAAATTTCGTATGTATCAAAATTTTGTTACTATCACATAAATTTCGTATGTATCAAAATTTTGTTACTATCACATAAATTTCGTATGTATCAAAATTTTGTTACTATCACATAAATTTCGTATGTATCAAAATTTTGTTACTATCACATAAATTTCGTATGTATCAAAATTTTGTTACTATCACATAAATTTCGTATGTATCAAAATTTTGTTACTATCACATAAATTTCGTATGTATCAAAATTTTGTTACTATCACATAAATTTCGTATGTATCAAAATTTTGTTACTATCACATAAATTTCGTATGTATCAAAATTTTGTTACTATCACATAAATTTCGTATGTATCAAAATTTTGTTACTATCACATAAATTTCGTATGTATCAAAATTTTGTTACTATCACATAAATTTCGTATGTATCAAAATTTTGTTACTATCACATAAATTTCGTATGTATCAAAATTTTGTTACTATCACATAAATTTCGTATGTATCAAAATTTTGTTACTATCACATAAATTTCGTATGTATCAAAATTTTGTTACTATCACATAAATTTCGTATGTATCAAAATTTTGTTACTATCACATAAATTTCGTATGTATCAAAATTTTGTTACTATCACATAAATTTCGTATGTATCAAAATTTTGTTACTATCACATAAATTTCGTATGTATCAAAATTTTGTTACTATCACATAAATTTCGTATGTATCAAAATTTTGTTACTATCACATAAATTTCGTATGTATCAAAATTTTGTTACTATCACATAAATTTCGTATGTATCAAAATTTTGTTACTATCACATAAATTTCGTATGTATCAAAATTTTGTTACTATCACATAAATTTCGTATGTATCAAAATTTTGTTACTATCACATAAATTTCGTATGTATCAAAATTTTGTTACTATCACATAAATTTCGTATGTATCAAAATTTTGTTACTATCACATAAATTTCGTATGTATCAAAATTTTGTTACTATCACATAAATTTCGTATGTATCAAAATTTTGTTACTATCACATAAATTTCGTATGTATCAAAATTTTGTTACTATCACATAAATTTCGTATGTATCAAAATTTTGTTACTATCACATAAATTTCGTATGTATCAAAATTTTGTTACTATCACATAAATTTCGTATGTATCAAAATTTTGTTACTATCACATAAATTTCGTATGTATCAAAATTTTGTTACTATCACATAAATTTCGTATGTATCAAAATTTTGTTACTATCACATAAATTTCGTATGTATCAAAATTTTGTTACTATCACATAAATTTCGTATGTATCAAAATTTTGTTACTATCACATAAATTTCGTATGTATCAAAATTTTGTTACTATCACATAAATTTCGTATGTATCAAAATTTTGTTACTATCACATAAATTTCGTATGTATCAAAATTTTGTTACTATCACATAAATTTCGTATGTATCAAAATTTTGTTACTATCACATAAATTTCGTATGTATCAAAATTTTGTTACTATCACATAAATTTCGTATGTATCAAAATTTTGTTACTATCACATAAATTTCGTATGTATCAAAATTTTGTTACTATCACATAAATTTCGTATGTATCAAAATTTTGTTACTATCACATAAATTTCGTATGTATCAAAATTTTGTTACTATCACATAAATTTCGTATGTATCAAAATTTTGTTACTATCACATAAATTTCGTATGTATCAAAATTTTGTTACTATCACATAAATTTCGTATGTATCAAAATTTTGTTACTATCACATAAATTTCGTATGTATCAAAATTTTGTTACTATCACATAAATTTCGTATGTATCAAAATTTTGTTACTATCACATAAATTTCGTATGTATCAAAATTTTGTTACTATCACATAAATTTCGTATGTATCAAAATTTTGTTACTATCACATAAATTTCGTATGTATCAAAATTTTGTTACTATCACATAAATTTCGTATGTATCAAAATTTTGTTACTATCACATAAATTTCGTATGTATCAAAATTTTGTTACTATCACATAAATTTCGTATGTATCAAAATTTTGTTACTATCACATAAATTTCGTATGTATCAAAATTTTGTTACTATCA'\n",
    "faster_frequent_words_dict(text, 6)"
   ]
  },
  {
   "cell_type": "markdown",
   "id": "23471ba8",
   "metadata": {},
   "source": [
    "## Algoritam za pronalaženje najzastupljenijih nukleotidnih podsekvenci dužine k sa do d dozvoljenih pogrešnih poklapanja karaktera"
   ]
  },
  {
   "cell_type": "markdown",
   "id": "e55859a3",
   "metadata": {},
   "source": [
    "Algoritam se zasniva na pronalaženju skupa kandidata, sekvenci sa najviše d razlika u odnosu na traženi uzorak, a zatim primenu naprednijeg algoritma za pronalaženje uzoraka među izdvojenim susedima"
   ]
  },
  {
   "cell_type": "code",
   "execution_count": 21,
   "id": "f84820ea",
   "metadata": {},
   "outputs": [],
   "source": [
    "'''Izračunavanje Hamingovog rastojanja između dve sekvence jednake dužine'''\n",
    "\n",
    "def hamming_distance(sequence_1, sequence_2):\n",
    "    n = len(sequence_1)\n",
    "    dist = 0\n",
    "    for i in range(n):\n",
    "        if sequence_1[i] != sequence_2[i]:\n",
    "            dist += 1\n",
    "            \n",
    "    return dist"
   ]
  },
  {
   "cell_type": "code",
   "execution_count": 22,
   "id": "1c6dec5a",
   "metadata": {},
   "outputs": [
    {
     "data": {
      "text/plain": [
       "2"
      ]
     },
     "execution_count": 22,
     "metadata": {},
     "output_type": "execute_result"
    }
   ],
   "source": [
    "sequence_1 = 'ABCD'\n",
    "sequence_2 = 'BBCC'\n",
    "\n",
    "hamming_distance(sequence_1, sequence_2)"
   ]
  },
  {
   "cell_type": "code",
   "execution_count": 23,
   "id": "c6b4e3e2",
   "metadata": {},
   "outputs": [],
   "source": [
    "'''\n",
    "Pronalaženje direktnih suseda uzorka - sekvenci \n",
    "sa najviše jednom razlikom u odnosu na uzorak\n",
    "'''\n",
    "\n",
    "def immediate_neighbors(pattern):\n",
    "    neighborhood = set([pattern])\n",
    "    n = len(pattern)\n",
    "    for i in range(n):\n",
    "        curr_nucleotide = pattern[i]\n",
    "        \n",
    "        for nucleotide in ['A','T','C','G']:\n",
    "            if curr_nucleotide != nucleotide:      # Zbog imutabilnosti niski, direktna zamena karaktera nije moguća\n",
    "                new_pattern_list = list(pattern)        # - Pretvaranje niske u listu karaktera\n",
    "                new_pattern_list[i] = nucleotide        # - Zamena nukleotida na i-toj poziciji\n",
    "                new_pattern = ''.join(new_pattern_list) # - Pretvaranje liste karaktera u nisku\n",
    "                neighborhood.add(new_pattern)\n",
    "                \n",
    "    return list(neighborhood)"
   ]
  },
  {
   "cell_type": "code",
   "execution_count": 24,
   "id": "80e4ffd1",
   "metadata": {},
   "outputs": [
    {
     "data": {
      "text/plain": [
       "['AAT', 'AAC', 'TAA', 'AAA', 'AAG', 'ACA', 'AGA', 'GAA', 'CAA', 'ATA']"
      ]
     },
     "execution_count": 24,
     "metadata": {},
     "output_type": "execute_result"
    }
   ],
   "source": [
    "immediate_neighbors('AAA')"
   ]
  },
  {
   "cell_type": "code",
   "execution_count": 25,
   "id": "9793f451",
   "metadata": {},
   "outputs": [],
   "source": [
    "'''\n",
    "Iterativni algoritam za pronalaženje susednih uzoraka \n",
    "sa najviše d razlika u odnosu na zadati uzorak.\n",
    "Bazira se na iterativnom pronalaženju direktnih suseda skupa uzoraka\n",
    "tokom d iteracija\n",
    "'''\n",
    "\n",
    "def iterative_neighbors(pattern, d):\n",
    "    neighborhood = set([pattern])\n",
    "    for _ in range(d):\n",
    "        for neighbor in neighborhood:\n",
    "            new_neigbors = immediate_neighbors(neighbor)\n",
    "            neighborhood = set(list(neighborhood) + new_neigbors)\n",
    "            \n",
    "    return list(neighborhood)"
   ]
  },
  {
   "cell_type": "code",
   "execution_count": 26,
   "id": "63ba701a",
   "metadata": {},
   "outputs": [
    {
     "data": {
      "text/plain": [
       "['GA',\n",
       " 'GG',\n",
       " 'CT',\n",
       " 'AG',\n",
       " 'GC',\n",
       " 'AC',\n",
       " 'TG',\n",
       " 'TT',\n",
       " 'CC',\n",
       " 'TC',\n",
       " 'CA',\n",
       " 'TA',\n",
       " 'AA',\n",
       " 'AT',\n",
       " 'GT',\n",
       " 'CG']"
      ]
     },
     "execution_count": 26,
     "metadata": {},
     "output_type": "execute_result"
    }
   ],
   "source": [
    "iterative_neighbors('AA', 2)"
   ]
  },
  {
   "cell_type": "code",
   "execution_count": 27,
   "id": "621edb16",
   "metadata": {},
   "outputs": [],
   "source": [
    "'''\n",
    "Rekurzivni algoritam za pronalaženje susednih uzoraka\n",
    "sa najviše d razlika u odnosu na zadati uzorak.\n",
    "Bazira se na pronalaženju suseda dužine k-1 a zatim\n",
    "nadovezivanjem prvog, izmenjenog, karaktera uzorka,\n",
    "ukoliko sused dužine k ima manje od d izmena \n",
    "ili, u suprotnom, nadovezivanjem prvog karaktera polaznog uzorka\n",
    "'''\n",
    "\n",
    "def neighbors(pattern, d):\n",
    "    if d == 0:\n",
    "        return { pattern }\n",
    "    if len(pattern) == 1:\n",
    "        return { 'A', 'T', 'C', 'G' }\n",
    "    \n",
    "    neighborhood = set([])\n",
    "    suffix = pattern[1:]\n",
    "    \n",
    "    suffix_neighbors = neighbors(suffix, d)\n",
    "    for text in suffix_neighbors:\n",
    "        new_neighbor = None # opciono\n",
    "        if hamming_distance(text, suffix) < d:\n",
    "            for x in ['A', 'T', 'C', 'G']:\n",
    "                new_neighbor = x + text\n",
    "                neighborhood.add(new_neighbor)\n",
    "        else:\n",
    "            new_neighbor = pattern[0] + text\n",
    "            neighborhood.add(new_neighbor)\n",
    "        \n",
    "    return list(neighborhood)"
   ]
  },
  {
   "cell_type": "code",
   "execution_count": 28,
   "id": "c2b4e890",
   "metadata": {},
   "outputs": [
    {
     "data": {
      "text/plain": [
       "['GA',\n",
       " 'GG',\n",
       " 'CT',\n",
       " 'AG',\n",
       " 'AC',\n",
       " 'TT',\n",
       " 'GC',\n",
       " 'TG',\n",
       " 'CC',\n",
       " 'CG',\n",
       " 'TC',\n",
       " 'TA',\n",
       " 'AA',\n",
       " 'AT',\n",
       " 'GT',\n",
       " 'CA']"
      ]
     },
     "execution_count": 28,
     "metadata": {},
     "output_type": "execute_result"
    }
   ],
   "source": [
    "neighbors('AA', 2)"
   ]
  },
  {
   "cell_type": "code",
   "execution_count": 29,
   "id": "1077519b",
   "metadata": {},
   "outputs": [],
   "source": [
    "'''Prebrojavanje uzoraka sa najviše d razlika u odnosu na zadati uzorak'''\n",
    "\n",
    "def approximate_pattern_count(text, pattern, d):\n",
    "    n = len(text)\n",
    "    k = len(pattern)\n",
    "    count = 0\n",
    "    \n",
    "    for i in range(n - k + 1):\n",
    "        curr_pattern = text[i : i + k]\n",
    "        if hamming_distance(curr_pattern, pattern) <= d:\n",
    "            count += 1\n",
    "            \n",
    "    return count"
   ]
  },
  {
   "cell_type": "code",
   "execution_count": 30,
   "id": "2303a03c",
   "metadata": {},
   "outputs": [],
   "source": [
    "'''\n",
    "Implementacija algoritma za pronalaženje najzastupljenijih\n",
    "podniski dužine k u okviru nukleotidnih sekvenci sa najviše d odstupanja\n",
    "'''\n",
    "\n",
    "def frequent_words_with_missmatches(text, k, d):\n",
    "    frequent_patterns = set([])\n",
    "    frequency_array = [0 for _ in range(4 ** k)]\n",
    "    close = [0 for _ in range(4 ** k)] # - Niz potencijalnih kandidata\n",
    "    \n",
    "    n = len(text)\n",
    "    for i in range(n - k + 1):\n",
    "        pattern = text[i : i + k]            # - Izdvajanje uzorka\n",
    "        neighborhood = neighbors(pattern, d) # - Pronalaženje suseda uzorka\n",
    "        for neighbor in neighborhood:\n",
    "            j = pattern_to_number(neighbor)  # - Mapiranje susednog uzorka u broj\n",
    "            close[j] = 1                     # - Evidentiranje suseda kao potencijalnog kandidata\n",
    "            \n",
    "    # Prebrojavanje potencijalnih kandidata\n",
    "    for i in range(4 ** k):\n",
    "        if close[i] == 1:\n",
    "            pattern = number_to_pattern(i, k)\n",
    "            frequency_array[i] = approximate_pattern_count(text, pattern, d)\n",
    "            \n",
    "    \n",
    "    max_count = max(frequency_array)\n",
    "    \n",
    "    for i in range(0, 4 ** k):\n",
    "        if frequency_array[i] == max_count:\n",
    "            pattern = number_to_pattern(i, k)\n",
    "            frequent_patterns.add(pattern)\n",
    "    \n",
    "    return list(frequent_patterns)"
   ]
  },
  {
   "cell_type": "code",
   "execution_count": 31,
   "id": "33eccd47",
   "metadata": {},
   "outputs": [
    {
     "data": {
      "text/plain": [
       "['AATTTT', 'AAATTT', 'AAAATT']"
      ]
     },
     "execution_count": 31,
     "metadata": {},
     "output_type": "execute_result"
    }
   ],
   "source": [
    "text = 'CATAAATTTCGTATGTATCAAAATTTTGTTACTATCACATAAATTTCGTATGTATCAAAATTTTGTTACTATCA'\n",
    "k = 6\n",
    "d = 1\n",
    "\n",
    "frequent_words_with_missmatches(text, k, d)"
   ]
  },
  {
   "cell_type": "markdown",
   "id": "f233727b",
   "metadata": {},
   "source": [
    "## Efikasnija implementacija algoritma za pronalaženje najzastupljenijih uzoraka sa dozvoljenim odstupanjem"
   ]
  },
  {
   "cell_type": "markdown",
   "id": "7a48dce2",
   "metadata": {},
   "source": [
    "Bolja efikasnost se dobija korišćenjem `dict` strukture podataka za čuvanje broja pojavljivanja"
   ]
  },
  {
   "cell_type": "code",
   "execution_count": 32,
   "id": "1ce43c16",
   "metadata": {},
   "outputs": [],
   "source": [
    "'''\n",
    "Efikasnija implementacija algoritma za pronalaženje najzastupljenijih\n",
    "podniski dužine k u okviru nukleotidnih sekvenci sa najviše d odstupanja\n",
    "'''\n",
    "\n",
    "def frequent_words_with_missmatches_dict(text, k, d):\n",
    "    frequent_patterns = set([])\n",
    "    frequency_array = dict([])\n",
    "    \n",
    "    n = len(text)\n",
    "    for i in range(n - k + 1):\n",
    "        pattern = text[i : i + k]                    # - Izdvajanje uzorka\n",
    "        neighborhood = neighbors(pattern, d)         # - Pronalaženje suseda uzorka\n",
    "        for neighbor in neighborhood:\n",
    "            if neighbor not in frequency_array:      # - Već prebrojani uzorci se ignorišu\n",
    "                frequency_array[neighbor] = approximate_pattern_count(text, pattern, d)\n",
    "            \n",
    "    \n",
    "    max_count = max(frequency_array.values())\n",
    "    \n",
    "    for pattern, count in frequency_array.items():\n",
    "        if count == max_count:\n",
    "            frequent_patterns.add(pattern)\n",
    "    \n",
    "    return list(frequent_patterns)"
   ]
  },
  {
   "cell_type": "code",
   "execution_count": 33,
   "id": "41d895a8",
   "metadata": {},
   "outputs": [
    {
     "data": {
      "text/plain": [
       "['AATTTT', 'AAATTT', 'AAAATT']"
      ]
     },
     "execution_count": 33,
     "metadata": {},
     "output_type": "execute_result"
    }
   ],
   "source": [
    "text = 'CATAAATTTCGTATGTATCAAAATTTTGTTACTATCACATAAATTTCGTATGTATCAAAATTTTGTTACTATCA'\n",
    "k = 6\n",
    "d = 1\n",
    "\n",
    "frequent_words_with_missmatches(text, k, d)"
   ]
  },
  {
   "cell_type": "markdown",
   "id": "1fce20a6",
   "metadata": {},
   "source": [
    "## Analiza G-C sastava\n",
    "G-C skew dijagram oslikava odnos G i C nukleotida duž sekvence, minimum G-C skew dijagrama može biti dobar pokazatelj pozicije početka replikacije (OriC segmenta) unutar koga se pronalaze najzastupljenije podsekvence (dnaA boksovi)"
   ]
  },
  {
   "cell_type": "code",
   "execution_count": 34,
   "id": "f73c74b9",
   "metadata": {},
   "outputs": [],
   "source": [
    "'''Izračunavanje vrednosti G-C skew dijagrama'''\n",
    "def compute_gc(dna):\n",
    "    skew = [0 for _ in dna]\n",
    "    curr_sum = 0\n",
    "    \n",
    "    n = len(dna)\n",
    "    for i in range(n):\n",
    "        if dna[i] == 'G':\n",
    "            curr_sum += 1\n",
    "        elif dna[i] == 'C':\n",
    "            curr_sum -= 1\n",
    "            \n",
    "        skew[i] = curr_sum\n",
    "        \n",
    "    return skew\n"
   ]
  },
  {
   "cell_type": "code",
   "execution_count": 35,
   "id": "157a9ff5",
   "metadata": {},
   "outputs": [],
   "source": [
    "gc_skew = compute_gc('CCATGTAGCGAGTGATC')"
   ]
  },
  {
   "cell_type": "markdown",
   "id": "bfb925f5",
   "metadata": {},
   "source": [
    "Za crtanje dijagrama biće korišćena `matplotlib` biblioteka"
   ]
  },
  {
   "cell_type": "code",
   "execution_count": 36,
   "id": "afc4f0a7",
   "metadata": {},
   "outputs": [],
   "source": [
    "import matplotlib.pyplot as plt"
   ]
  },
  {
   "cell_type": "code",
   "execution_count": 37,
   "id": "d66f1d7d",
   "metadata": {},
   "outputs": [
    {
     "data": {
      "image/png": "[encoded data removed]",
      "text/plain": [
       "<Figure size 432x288 with 1 Axes>"
      ]
     },
     "metadata": {
      "needs_background": "light"
     },
     "output_type": "display_data"
    }
   ],
   "source": [
    "_ = plt.plot(gc_skew)"
   ]
  },
  {
   "cell_type": "markdown",
   "id": "d5e2228d",
   "metadata": {},
   "source": [
    "Analiza G-C raspodele nad genomom e. coli"
   ]
  },
  {
   "cell_type": "code",
   "execution_count": 38,
   "id": "bfb0b8af",
   "metadata": {},
   "outputs": [
    {
     "data": {
      "image/png": "[encoded data removed]",
      "text/plain": [
       "<Figure size 432x288 with 1 Axes>"
      ]
     },
     "metadata": {
      "needs_background": "light"
     },
     "output_type": "display_data"
    }
   ],
   "source": [
    "# Učitavanje e. coli genoma iz fajla u fasta formatu\n",
    "e_coli = ''.join(open('e_coli.fna','r').read().split('\\n')[1:])\n",
    "\n",
    "# Izračunavanje i crtanje dijagrama\n",
    "gc_skew = compute_gc(e_coli)\n",
    "_ = plt.plot(gc_skew)"
   ]
  }
 ],
 "metadata": {
  "kernelspec": {
   "display_name": "Python 3 (ipykernel)",
   "language": "python",
   "name": "python3"
  },
  "language_info": {
   "codemirror_mode": {
    "name": "ipython",
    "version": 3
   },
   "file_extension": ".py",
   "mimetype": "text/x-python",
   "name": "python",
   "nbconvert_exporter": "python",
   "pygments_lexer": "ipython3",
   "version": "3.8.9"
  }
 },
 "nbformat": 4,
 "nbformat_minor": 5
}
