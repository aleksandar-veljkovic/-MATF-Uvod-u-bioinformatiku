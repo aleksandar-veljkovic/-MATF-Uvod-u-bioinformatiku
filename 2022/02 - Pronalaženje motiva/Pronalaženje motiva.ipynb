{
 "cells": [
  {
   "cell_type": "markdown",
   "id": "d761661a",
   "metadata": {},
   "source": [
    "# Pronalaženje motiva"
   ]
  },
  {
   "cell_type": "markdown",
   "id": "d26202a2",
   "metadata": {},
   "source": [
    "Pomoćne funkcije sa prethodnog časa"
   ]
  },
  {
   "cell_type": "code",
   "execution_count": 1,
   "id": "e366066a",
   "metadata": {},
   "outputs": [],
   "source": [
    "'''Pomoćna funkcija koja pretvara broj u simbol nukleotida'''\n",
    "\n",
    "def number_to_symbol(number):\n",
    "    mapping = {\n",
    "        0: 'A',\n",
    "        1: 'T',\n",
    "        2: 'C',\n",
    "        3: 'G'\n",
    "    }\n",
    "    \n",
    "    if number not in [0,1,2,3]:\n",
    "        print(f'Invalid number: {number}')\n",
    "        return None\n",
    "    \n",
    "    return mapping[number]"
   ]
  },
  {
   "cell_type": "code",
   "execution_count": 2,
   "id": "6fe93fee",
   "metadata": {},
   "outputs": [],
   "source": [
    "'''Pomoćna funkcija koja pretvara simbol nukleotida u broj'''\n",
    "\n",
    "def symbol_to_number(symbol):\n",
    "    mapping = {\n",
    "        'A': 0,\n",
    "        'T': 1,\n",
    "        'C': 2,\n",
    "        'G': 3\n",
    "    }\n",
    "    \n",
    "    return mapping[symbol.upper()]"
   ]
  },
  {
   "cell_type": "code",
   "execution_count": 3,
   "id": "7db26f60",
   "metadata": {},
   "outputs": [],
   "source": [
    "'''Pomoćna funkcija koja transformiše broj u k-mer'''\n",
    "\n",
    "def number_to_pattern(number, k):\n",
    "    if k == 1:\n",
    "        return number_to_symbol(number)\n",
    "    r = number % 4\n",
    "    q = number // 4\n",
    "    last_symbol = number_to_symbol(r)\n",
    "    \n",
    "    return number_to_pattern(q, k - 1) + last_symbol"
   ]
  },
  {
   "cell_type": "code",
   "execution_count": 4,
   "id": "9d4fd2f9",
   "metadata": {},
   "outputs": [],
   "source": [
    "'''Pomoćna funkcija koja izračunava Hamingovo rastojanje između sekvenci iste dužine'''\n",
    "\n",
    "def hamming_distance(sequence_1, sequence_2):\n",
    "    n = len(sequence_1)\n",
    "    distance = 0\n",
    "    \n",
    "    for i in range(n):\n",
    "        if sequence_1[i] != sequence_2[i]:\n",
    "            distance += 1\n",
    "            \n",
    "    return distance"
   ]
  },
  {
   "cell_type": "markdown",
   "id": "7f76e316",
   "metadata": {},
   "source": [
    "Nove funkcije"
   ]
  },
  {
   "cell_type": "code",
   "execution_count": 5,
   "id": "74a6d499",
   "metadata": {},
   "outputs": [],
   "source": [
    "'''\n",
    "Funkcija računa udaljenost šablonske sekvence od DNK sekvence,\n",
    "pronalazeći poravnanje sekvenci koje rezultuje najmanjim Hamingovim rastojanjem\n",
    "'''\n",
    "\n",
    "def d(pattern, dna):\n",
    "    k = len(pattern)\n",
    "    total_distance = 0\n",
    "    \n",
    "    for sequence in dna:\n",
    "        n = len(sequence)\n",
    "        min_distance = float('inf')\n",
    "        \n",
    "        for i in range(0, n - k + 1):\n",
    "            current_pattern = sequence[i : i + k]\n",
    "            current_distance = hamming_distance(pattern, current_pattern.upper())\n",
    "            \n",
    "            if current_distance < min_distance:\n",
    "                min_distance = current_distance\n",
    "                \n",
    "        total_distance += min_distance\n",
    "    return total_distance"
   ]
  },
  {
   "cell_type": "code",
   "execution_count": 6,
   "id": "c8f64172",
   "metadata": {},
   "outputs": [
    {
     "data": {
      "text/plain": [
       "5"
      ]
     },
     "execution_count": 6,
     "metadata": {},
     "output_type": "execute_result"
    }
   ],
   "source": [
    "# Primer\n",
    "dna = [\n",
    "    'ttaccttAAC',\n",
    "    'gATAtctgtc',\n",
    "    'ACGgcgttcg',\n",
    "    'ccctAAAgag',\n",
    "    'cgtcAGAggt'\n",
    "]\n",
    "\n",
    "pattern ='AAA'\n",
    "d(pattern, dna)"
   ]
  },
  {
   "cell_type": "markdown",
   "id": "d33207cd",
   "metadata": {},
   "source": [
    "*Median string*\n",
    "algoritam pronalazi sekvencu dužine $k$ koja predstavlja motiv na osnovu najveće ukupnog najmanjeg rastojanja (u kontekstu funkcije `d`) u odnosu na sve DNK sekvence"
   ]
  },
  {
   "cell_type": "code",
   "execution_count": 7,
   "id": "340209a1",
   "metadata": {},
   "outputs": [],
   "source": [
    "'''Algoritam za pronalaženje mediana niske kao kandidata za sekvencu motiva'''\n",
    "\n",
    "def median_string(dna, k):\n",
    "    distance = float('inf')\n",
    "    median_pattern = None\n",
    "    \n",
    "    for i in range(4 ** k):\n",
    "        pattern = number_to_pattern(i, k)\n",
    "        current_distance = d(pattern, dna)\n",
    "        if current_distance < distance:\n",
    "            distance = current_distance\n",
    "            median_pattern = pattern\n",
    "\n",
    "    return median_pattern"
   ]
  },
  {
   "cell_type": "code",
   "execution_count": 8,
   "id": "79b14932",
   "metadata": {},
   "outputs": [
    {
     "data": {
      "text/plain": [
       "'CCT'"
      ]
     },
     "execution_count": 8,
     "metadata": {},
     "output_type": "execute_result"
    }
   ],
   "source": [
    "# Primer\n",
    "dna = [\n",
    "    'ttaccttAAC',\n",
    "    'gATAtctgtc',\n",
    "    'ACGgcgttcg',\n",
    "    'ccctAAAgag',\n",
    "    'cgtcAGAggt'\n",
    "]\n",
    "k = 3\n",
    "median_string(dna, k)"
   ]
  },
  {
   "cell_type": "code",
   "execution_count": 9,
   "id": "c26ce521",
   "metadata": {},
   "outputs": [],
   "source": [
    "'''Konstrukcija count matrice koja prebrojava nukleotide u skupu motiva prema pozicijama'''\n",
    "\n",
    "def count(motifs, k, pseudocount=0):\n",
    "    counts = [[pseudocount] * 4 for _ in range(k)]    \n",
    "    \n",
    "    for motif in motifs:\n",
    "        for i in range(k):\n",
    "            current_nuc = motif[i]\n",
    "            j = symbol_to_number(current_nuc)\n",
    "            counts[i][j] += 1\n",
    "            \n",
    "    return counts"
   ]
  },
  {
   "cell_type": "code",
   "execution_count": 10,
   "id": "e872bc01",
   "metadata": {},
   "outputs": [
    {
     "data": {
      "text/plain": [
       "[[2, 0, 1, 0],\n",
       " [0, 2, 0, 1],\n",
       " [0, 0, 2, 1],\n",
       " [0, 0, 3, 0],\n",
       " [3, 0, 0, 0],\n",
       " [3, 0, 0, 0]]"
      ]
     },
     "execution_count": 10,
     "metadata": {},
     "output_type": "execute_result"
    }
   ],
   "source": [
    "# Primer\n",
    "motifs = [\n",
    "    'ATGCAA',\n",
    "    'CTCCAA',\n",
    "    'AGCCAA',\n",
    "]\n",
    "k = 6\n",
    "count(motifs, k)"
   ]
  },
  {
   "cell_type": "code",
   "execution_count": 11,
   "id": "921b01d8",
   "metadata": {},
   "outputs": [],
   "source": [
    "'''Računanje skora skupa motiva (manji skor = veća sličnost između motiva)'''\n",
    "\n",
    "def score(motifs, k):\n",
    "    total_score = 0\n",
    "    counts = count(motifs, k)\n",
    "            \n",
    "    for i in range(k):\n",
    "        most_frequent = counts[i].index(max(counts[i]))\n",
    "        for j in range(4):\n",
    "            if j != most_frequent:\n",
    "                 total_score += counts[i][j]\n",
    "    \n",
    "    return total_score"
   ]
  },
  {
   "cell_type": "code",
   "execution_count": 12,
   "id": "10c8d885",
   "metadata": {},
   "outputs": [
    {
     "data": {
      "text/plain": [
       "[[2, 0, 1, 0],\n",
       " [0, 2, 0, 1],\n",
       " [0, 0, 2, 1],\n",
       " [0, 0, 3, 0],\n",
       " [3, 0, 0, 0],\n",
       " [3, 0, 0, 0]]"
      ]
     },
     "execution_count": 12,
     "metadata": {},
     "output_type": "execute_result"
    }
   ],
   "source": [
    "# Primer\n",
    "motifs = [\n",
    "    'ATGCAA',\n",
    "    'CTCCAA',\n",
    "    'AGCCAA',\n",
    "]\n",
    "k = 6\n",
    "count(motifs, k)"
   ]
  },
  {
   "cell_type": "code",
   "execution_count": 13,
   "id": "0132cd01",
   "metadata": {},
   "outputs": [],
   "source": [
    "'''\n",
    "Konstrukcija profilne matrice čije vrednosti predstavljaju \n",
    "verovatnoće pojave nukleotida na pojedinačnim pozicijama u motivu\n",
    "'''\n",
    "\n",
    "def profile(motifs, k):\n",
    "    t = len(motifs)\n",
    "    pseudocount = 3\n",
    "    counts = count(motifs, k, pseudocount)\n",
    "    profile_matrix = [[0] * 4 for _ in range(k)]\n",
    "    \n",
    "    for i in range(k):\n",
    "        for j in range(4):\n",
    "            profile_matrix[i][j] = counts[i][j] / (t + (4 * pseudocount))\n",
    "            \n",
    "    return profile_matrix"
   ]
  },
  {
   "cell_type": "code",
   "execution_count": 14,
   "id": "32b2d35a",
   "metadata": {},
   "outputs": [
    {
     "data": {
      "text/plain": [
       "[[0.3333333333333333, 0.2, 0.26666666666666666, 0.2],\n",
       " [0.2, 0.3333333333333333, 0.2, 0.26666666666666666],\n",
       " [0.2, 0.2, 0.3333333333333333, 0.26666666666666666],\n",
       " [0.2, 0.2, 0.4, 0.2],\n",
       " [0.4, 0.2, 0.2, 0.2],\n",
       " [0.4, 0.2, 0.2, 0.2]]"
      ]
     },
     "execution_count": 14,
     "metadata": {},
     "output_type": "execute_result"
    }
   ],
   "source": [
    "# Primer\n",
    "motifs = [\n",
    "    'ATGCAA',\n",
    "    'CTCCAA',\n",
    "    'AGCCAA',\n",
    "]\n",
    "k = 6\n",
    "profile(motifs, k)"
   ]
  },
  {
   "cell_type": "code",
   "execution_count": 15,
   "id": "1e55f6ba",
   "metadata": {},
   "outputs": [],
   "source": [
    "'''\n",
    "Funkcija računa verovatnoću sekvence u odnosu na profil skupa motiva.\n",
    "Verovatnoća sekvence predstavlja proizvod verovatnoće pojave nukleotida\n",
    "na pojedinačnim pozicijama motiva - pretpostavka nezavisnosti\n",
    "'''\n",
    "\n",
    "def probability(motif_profile, pattern, k):\n",
    "    prob = 1\n",
    "    for i in range(k):\n",
    "        symbol = pattern[i]\n",
    "        j = symbol_to_number(symbol)\n",
    "        symbol_prob = motif_profile[i][j]\n",
    "        prob *= symbol_prob\n",
    "    return prob"
   ]
  },
  {
   "cell_type": "code",
   "execution_count": 16,
   "id": "327c8247",
   "metadata": {},
   "outputs": [
    {
     "data": {
      "text/plain": [
       "0.0011851851851851854"
      ]
     },
     "execution_count": 16,
     "metadata": {},
     "output_type": "execute_result"
    }
   ],
   "source": [
    "# Primer\n",
    "motifs = [\n",
    "    'ATGCAA',\n",
    "    'CTCCAA',\n",
    "    'AGCCAA',\n",
    "]\n",
    "k = 6\n",
    "motif_profile = profile(motifs, k)\n",
    "pattern = 'ATCCTA'\n",
    "probability(motif_profile, pattern, k)"
   ]
  },
  {
   "cell_type": "code",
   "execution_count": 17,
   "id": "6af4f8ca",
   "metadata": {},
   "outputs": [],
   "source": [
    "'''\n",
    "Pronalaženje najverovatnije podniske dužine k u DNK sekvenci\n",
    "u odnosu na profilnu matricu motiva (u kontekstu funkcije probability)\n",
    "'''\n",
    "\n",
    "def most_probable_k_mer(motif_profile, sequence, k):\n",
    "    n = len(sequence)\n",
    "    max_prob = float('-inf')\n",
    "    max_pattern = None\n",
    "    \n",
    "    for i in range(n - k + 1):\n",
    "        pattern = sequence[i : i + k]\n",
    "        prob = probability(motif_profile, pattern, k)\n",
    "        if prob > max_prob:\n",
    "            max_prob = prob\n",
    "            max_pattern = pattern\n",
    "            \n",
    "    return max_pattern"
   ]
  },
  {
   "cell_type": "code",
   "execution_count": 18,
   "id": "2f30e46d",
   "metadata": {},
   "outputs": [
    {
     "data": {
      "text/plain": [
       "'ATCCTA'"
      ]
     },
     "execution_count": 18,
     "metadata": {},
     "output_type": "execute_result"
    }
   ],
   "source": [
    "# Primer\n",
    "motifs = [\n",
    "    'ATGCAA',\n",
    "    'CTCCAA',\n",
    "    'AGCCAA',\n",
    "]\n",
    "k = 6\n",
    "motif_profile = profile(motifs, k)\n",
    "sequence = 'TTGTAGGAAACATCCTACCCAGGAAT'\n",
    "most_probable_k_mer(motif_profile, sequence, k)"
   ]
  },
  {
   "cell_type": "markdown",
   "id": "40c3bf80",
   "metadata": {},
   "source": [
    "*Greedy motif search* algoritam pronalazi motive u DNK sekvencama pohlepnim pristupom, konstruišući matricu motiva dodavanjem sledećeg motiva koji predstavlja najverovatniju podnisku dužine k u i-toj sekvenci u odnosu na do tada sastavljen skup motiva."
   ]
  },
  {
   "cell_type": "code",
   "execution_count": 19,
   "id": "d9b8d308",
   "metadata": {},
   "outputs": [],
   "source": [
    "'''Pronalaženje motiva pomoću greedy motif search algoritma'''\n",
    "def greedy_motif_search(dna, k, t):\n",
    "    best_motifs = [sequence[:k] for sequence in dna]\n",
    "    best_score = score(best_motifs, k)\n",
    "\n",
    "    first_sequence = dna[0]\n",
    "    for i in range(len(first_sequence) - k + 1):\n",
    "        motif_1 = first_sequence[i : i + k]\n",
    "        motifs = [motif_1]\n",
    "        \n",
    "        for j in range(1, t):\n",
    "            motif_profile = profile(motifs, k)\n",
    "            motif_i = most_probable_k_mer(motif_profile, dna[j], k)\n",
    "            motifs.append(motif_i)\n",
    "            \n",
    "        current_score = score(motifs, k)\n",
    "        if current_score < best_score:\n",
    "            best_score = current_score\n",
    "            best_motifs = motifs\n",
    "            \n",
    "    return best_motifs"
   ]
  },
  {
   "cell_type": "code",
   "execution_count": 20,
   "id": "395bb15c",
   "metadata": {},
   "outputs": [
    {
     "data": {
      "text/plain": [
       "['ACCT', 'ATGT', 'acgG', 'ACGA', 'AGGT']"
      ]
     },
     "execution_count": 20,
     "metadata": {},
     "output_type": "execute_result"
    }
   ],
   "source": [
    "# Primer\n",
    "dna = [\n",
    "    'ttACCTtaac',\n",
    "    'gATGTctgtc',\n",
    "    'acgGCGTtag',\n",
    "    'ccctaACGAg',\n",
    "    'cgtcagAGGT'\n",
    "]\n",
    "\n",
    "k = 4\n",
    "greedy_motif_search(dna, k, len(dna))"
   ]
  },
  {
   "cell_type": "code",
   "execution_count": 21,
   "id": "7a727b62",
   "metadata": {},
   "outputs": [],
   "source": [
    "'''Izdvajanje skupa motiva dužine k iz skupa DNK sekvenci'''\n",
    "\n",
    "def motifs_from_profile(motif_profile, dna, k):\n",
    "    motifs = []\n",
    "    for sequence in dna:\n",
    "        motif_i = most_probable_k_mer(motif_profile, sequence, k)\n",
    "        motifs.append(motif_i)\n",
    "    return motifs"
   ]
  },
  {
   "cell_type": "markdown",
   "id": "e6bb91de",
   "metadata": {},
   "source": [
    "*Randomized motif search* algoritam pronalazi motive primenom EM (expectation maximization) algoritma. Algoritam polazi od nasumično odabranih motiva a zatim konstruiše profilnu matricu na osnovu skupa motiva koju koristi za konstruisanje nove matrice motiva.\n",
    "Iterativni postupak približava skup motiva traženom skupu motiva, ali je moguće zaglavljivanje u lokalnom optimumu. Iz tog razloga, algoritam se pokreće više puta i odabira najbolji rezultat"
   ]
  },
  {
   "cell_type": "code",
   "execution_count": 22,
   "id": "80469f3c",
   "metadata": {},
   "outputs": [],
   "source": [
    "'''Pronalaženje motiva pomoću randomized motif search algoritma'''\n",
    "\n",
    "import random\n",
    "\n",
    "def randomized_motif_search(dna, k, t):\n",
    "    motifs = []\n",
    "    for sequence in dna:\n",
    "        n = len(sequence)\n",
    "        i = random.randrange(0, n - k + 1)\n",
    "        motifs.append(sequence[i : i + k])\n",
    "        \n",
    "    best_motifs = motifs\n",
    "    best_score = score(best_motifs, k)\n",
    "    \n",
    "    while True:\n",
    "        motif_profile = profile(motifs, k)\n",
    "        motifs = motifs_from_profile(motif_profile, dna, k)\n",
    "        \n",
    "        current_score = score(motifs, k)\n",
    "        if current_score < best_score:\n",
    "            best_score = current_score\n",
    "            best_motifs = motifs\n",
    "        else:\n",
    "            return best_score, best_motifs"
   ]
  },
  {
   "cell_type": "code",
   "execution_count": 23,
   "id": "89a85593",
   "metadata": {},
   "outputs": [
    {
     "name": "stdout",
     "output_type": "stream",
     "text": [
      "['ACCT', 'ATGT', 'acgG', 'ACGA', 'AGGT']\n"
     ]
    }
   ],
   "source": [
    "# Primer\n",
    "dna = [\n",
    "    'ttACCTtaac',\n",
    "    'gATGTctgtc',\n",
    "    'acgGCGTtag',\n",
    "    'ccctaACGAg',\n",
    "    'cgtcagAGGT'\n",
    "]\n",
    "\n",
    "k = 4\n",
    "min_score = float('inf')\n",
    "min_motifs = None\n",
    "\n",
    "for _ in range(100):\n",
    "    best_score, best_motifs = randomized_motif_search(dna, k, len(dna))\n",
    "    if best_score <= min_score:\n",
    "        min_score = best_score\n",
    "        min_motifs = best_motifs\n",
    "        \n",
    "print(min_motifs)"
   ]
  },
  {
   "cell_type": "code",
   "execution_count": 24,
   "id": "cf63c2c9",
   "metadata": {},
   "outputs": [],
   "source": [
    "'''Pronalaženje najverovatnijeg šablona dužine k u DNK sekvenci \n",
    "na osnovu Gibsove raspodele predstavljene profilnom matricom skupa motiva\n",
    "'''\n",
    "\n",
    "def most_probable_gibbs_k_mer(motif_profile, sequence, k):\n",
    "    probabilities = []\n",
    "    patterns = []\n",
    "    \n",
    "    n = len(sequence)\n",
    "    prob_sum = 0\n",
    "    \n",
    "    for i in range(n - k + 1):\n",
    "        pattern = sequence[i : i + k]\n",
    "        prob = probability(motif_profile, pattern, k)\n",
    "        prob_sum += prob\n",
    "        \n",
    "        patterns.append(pattern)\n",
    "        probabilities.append(prob)\n",
    "        \n",
    "    random_pos = random.random() * prob_sum\n",
    "    \n",
    "    current_sum = 0\n",
    "    for i in range(n - k + 1):\n",
    "        prob = probabilities[i]\n",
    "        current_sum += prob\n",
    "        \n",
    "        if current_sum >= random_pos:\n",
    "            return patterns[i]"
   ]
  },
  {
   "cell_type": "markdown",
   "id": "c32179c5",
   "metadata": {},
   "source": [
    "*Gibbs sampler* algoritam pronalazi motive na sličan način kao i randomized motif search uz bitnu razliku da se ne odabiraju uvek najsličniji šabloni već se na osnovu Gibsove raspodele daje verovatnoća izbora i ostalim šablonima."
   ]
  },
  {
   "cell_type": "code",
   "execution_count": 25,
   "id": "7520f94a",
   "metadata": {},
   "outputs": [],
   "source": [
    "'''Pronalaženje motiva pomoću randomized Gibbs sampler algoritma'''\n",
    "\n",
    "from copy import deepcopy\n",
    "def gibbs_sampler(dna, k, t, N):\n",
    "    motifs = []\n",
    "    for sequence in dna:\n",
    "        n = len(sequence)\n",
    "        i = random.randrange(0, n - k + 1)\n",
    "        motifs.append(sequence[i : i + k])\n",
    "        \n",
    "    best_motifs = deepcopy(motifs)\n",
    "    best_score = score(best_motifs, k)\n",
    "    \n",
    "    for _ in range(N):\n",
    "        i = random.randrange(0, t)\n",
    "        del motifs[i]\n",
    "        motif_profile = profile(motifs, k)\n",
    "        motif_i = most_probable_gibbs_k_mer(motif_profile, dna[i], k)\n",
    "        motifs.insert(i, motif_i)\n",
    "        \n",
    "        current_score = score(motifs, k)\n",
    "        if current_score < best_score:\n",
    "            best_score = current_score\n",
    "            best_motifs = deepcopy(motifs)\n",
    "            \n",
    "    return best_score, best_motifs"
   ]
  },
  {
   "cell_type": "code",
   "execution_count": 26,
   "id": "a4fc5125",
   "metadata": {},
   "outputs": [
    {
     "name": "stdout",
     "output_type": "stream",
     "text": [
      "['ACCT', 'ATGT', 'acgG', 'ACGA', 'AGGT']\n"
     ]
    }
   ],
   "source": [
    "# Primer\n",
    "dna = [\n",
    "    'ttACCTtaac',\n",
    "    'gATGTctgtc',\n",
    "    'acgGCGTtag',\n",
    "    'ccctaACGAg',\n",
    "    'cgtcagAGGT'\n",
    "]\n",
    "\n",
    "k = 4\n",
    "min_score = float('inf')\n",
    "min_motifs = None\n",
    "N = 100\n",
    "\n",
    "\n",
    "for _ in range(100):\n",
    "    best_score, best_motifs = gibbs_sampler(dna, k, len(dna), N)\n",
    "    if best_score <= min_score:\n",
    "        min_score = best_score\n",
    "        min_motifs = best_motifs\n",
    "        \n",
    "print(min_motifs)"
   ]
  }
 ],
 "metadata": {
  "kernelspec": {
   "display_name": "Python 3 (ipykernel)",
   "language": "python",
   "name": "python3"
  },
  "language_info": {
   "codemirror_mode": {
    "name": "ipython",
    "version": 3
   },
   "file_extension": ".py",
   "mimetype": "text/x-python",
   "name": "python",
   "nbconvert_exporter": "python",
   "pygments_lexer": "ipython3",
   "version": "3.8.9"
  }
 },
 "nbformat": 4,
 "nbformat_minor": 5
}
