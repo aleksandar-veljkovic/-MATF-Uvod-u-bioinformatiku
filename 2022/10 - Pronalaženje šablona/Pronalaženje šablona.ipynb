{
 "cells": [
  {
   "cell_type": "markdown",
   "id": "dc30c532",
   "metadata": {},
   "source": [
    "# Pronalaženje šablona"
   ]
  },
  {
   "cell_type": "code",
   "execution_count": 1,
   "id": "cf13bc49",
   "metadata": {},
   "outputs": [],
   "source": [
    "'''\n",
    "Klasa koja reprezentuje\n",
    "čvor prefiksnog stabla\n",
    "'''\n",
    "class TrieNode:\n",
    "    def __init__(self, character):\n",
    "        self.character = character\n",
    "        self.children = {}\n",
    "        self.is_leaf = True\n",
    "        \n",
    "    '''Dodavanje dete-čvora zadatim karakterom'''\n",
    "    def add_child(self, character):\n",
    "        self.is_leaf = False\n",
    "        new_node = TrieNode(character)\n",
    "        self.children[character] = new_node\n",
    "        return new_node\n",
    "    \n",
    "    '''Metod vraća dete-čvor identifikovan zadatim karakterom'''\n",
    "    def get_child(self, character):\n",
    "        if character not in self.children:\n",
    "            return None\n",
    "        return self.children[character]\n",
    "        \n",
    "    def __str__(self):\n",
    "        return f'{self.character}: {list(self.children.keys())}, is_leaf: {self.is_leaf}'"
   ]
  },
  {
   "cell_type": "code",
   "execution_count": 2,
   "id": "582d176e",
   "metadata": {},
   "outputs": [],
   "source": [
    "'''\n",
    "Klasa koja reprezentuje\n",
    "prefiksno stablo\n",
    "'''\n",
    "class Trie:\n",
    "    def __init__(self, patterns):\n",
    "        self.trie_construction(patterns)\n",
    "        \n",
    "    '''Konstruisanje stabla na osnovu zadate liste šablona'''\n",
    "    def trie_construction(self, patterns):\n",
    "        self.root = TrieNode(None)\n",
    "        \n",
    "        for pattern in patterns:\n",
    "            current_node = self.root\n",
    "            for current_symbol in pattern:\n",
    "                if current_symbol not in current_node.children:\n",
    "                    current_node.add_child(current_symbol)\n",
    "                    \n",
    "                current_node = current_node.get_child(current_symbol)\n",
    "                \n",
    "        return self.root\n",
    "    \n",
    "    def __str__(self):\n",
    "        return f'{self.root}'\n",
    "    \n",
    "    '''\n",
    "    DFS obilazak prefiksnog stabla,\n",
    "    očekivan izlaz je lista svih unetih šablona    \n",
    "    '''\n",
    "    def dfs(self, node, path=''):\n",
    "        for character, child in node.children.items():\n",
    "            if child.is_leaf:\n",
    "                print(f'{path}{character}')\n",
    "            else:\n",
    "                self.dfs(node=child, path=f'{path}{character}')\n",
    "                \n",
    "    '''\n",
    "    Pronalaženje šablona \n",
    "    koji odgovara prefiksu zadatog teksta\n",
    "    '''\n",
    "    def prefix_trie_matching(self, text):\n",
    "        current_node = self.root\n",
    "        path = ''\n",
    "        for character in text:\n",
    "            if current_node.is_leaf and current_node.character != None:\n",
    "                return path\n",
    "            \n",
    "            if character in current_node.children:\n",
    "                path += character\n",
    "                current_node = current_node.get_child(character)\n",
    "                \n",
    "            else:\n",
    "                return None\n",
    "            \n",
    "    '''\n",
    "    Pronalaženje svih šablona stabla\n",
    "    u zadatom tekstu\n",
    "    '''\n",
    "    def trie_matching(self, text):\n",
    "        found_patterns = []\n",
    "        \n",
    "        n = len(text)\n",
    "        for i in range(n):\n",
    "            result = self.prefix_trie_matching(text[i:])\n",
    "            \n",
    "            if result != None:\n",
    "                found_patterns.append((result, i))\n",
    "                \n",
    "        return found_patterns"
   ]
  },
  {
   "cell_type": "code",
   "execution_count": 3,
   "id": "ef67c71a",
   "metadata": {},
   "outputs": [],
   "source": [
    "'''\n",
    "Klasa koja reprezentuje sufiksni niz\n",
    "'''\n",
    "class SuffixArray:\n",
    "    def __init__(self, text):\n",
    "        self.arr = self.generate_suffix_array(text)\n",
    "        \n",
    "    '''\n",
    "    Konstruisanje sufiksnog niza\n",
    "    na osnovu zadatog teksta\n",
    "    '''\n",
    "    def generate_suffix_array(self, text):\n",
    "        terminated_text = f'{text}$'\n",
    "        arr = [(terminated_text[i:], i) for i in range(len(terminated_text))]\n",
    "            \n",
    "        return sorted(arr)\n",
    "    \n",
    "    '''Poređenje prefiksa šablona i prefiksa sufiksa'''\n",
    "    def compare(self, pattern, suffix):\n",
    "        n = len(pattern)\n",
    "        m = len(suffix)\n",
    "        \n",
    "        if n > m:\n",
    "            return 1\n",
    "        \n",
    "        suffix_pref = suffix[:n]\n",
    "        \n",
    "        if suffix_pref == pattern:\n",
    "            return 0\n",
    "        \n",
    "        if suffix_pref < pattern:\n",
    "            return 1\n",
    "        else:\n",
    "            return -1\n",
    "        \n",
    "    '''\n",
    "    Pronalaženje svih pozicija u tekstu\n",
    "    (na osnovu koga je konstruisan sufiksni niz)\n",
    "    na kojima se nalazi zadati šablon\n",
    "    '''\n",
    "    def pattern_matching_with_suffix_array(self, pattern):\n",
    "        n = len(self.arr)\n",
    "        min_index = 0\n",
    "        max_index = n\n",
    "        \n",
    "        while min_index <= max_index:\n",
    "            mid_index = (min_index + max_index) // 2\n",
    "            current_suffix = self.arr[mid_index][0]\n",
    "           \n",
    "            compare_res = self.compare(pattern, current_suffix)\n",
    "            \n",
    "            if compare_res == 0:\n",
    "                i = mid_index\n",
    "                while i >= 0 and self.compare(pattern, self.arr[i][0]) == 0:\n",
    "                    i -= 1\n",
    "                i += 1\n",
    "                \n",
    "                j = mid_index\n",
    "                while j < n and self.compare(pattern, self.arr[j][0]) == 0:\n",
    "                    j += 1\n",
    "                \n",
    "                return [self.arr[k][1] for k in range(i, j)]\n",
    "            \n",
    "            elif compare_res < 0:\n",
    "                max_index = mid_index\n",
    "            else:\n",
    "                min_index = mid_index\n",
    "                \n",
    "        return []\n",
    "        "
   ]
  },
  {
   "cell_type": "code",
   "execution_count": 4,
   "id": "d730759b",
   "metadata": {},
   "outputs": [],
   "source": [
    "'''\n",
    "BWT transformacija teksta\n",
    "'''\n",
    "class BWT:\n",
    "    def __init__(self, text):\n",
    "        self.bwt_text = self.construct_bwt(text + '$')\n",
    "        \n",
    "    '''Konstrukcija transformisane vrednosti'''\n",
    "    def construct_bwt(self, text):\n",
    "        n = len(text)\n",
    "        permutations = [text[i:n] + text[:i] for i in range(n)]\n",
    "        return [x[-1] for x in sorted(permutations)]\n",
    "    \n",
    "    '''\n",
    "    Rekonstrukcija originalne vrednosti teksta\n",
    "    '''\n",
    "    def inverse_bwt(self):\n",
    "        last_column = self.bwt_text\n",
    "        columns = sorted(last_column[:])\n",
    "        \n",
    "        original_row = last_column.index('$')\n",
    "        \n",
    "        n = len(self.bwt_text)\n",
    "        for _ in range(n - 1):\n",
    "            for j in range(n):\n",
    "                columns[j] = last_column[j] + columns[j]\n",
    "            columns.sort()\n",
    "\n",
    "        return columns[original_row]\n",
    "    \n",
    "    '''\n",
    "    Mapiranje indeksa karaktera iz poslednje kolone\n",
    "    na odgovarajuće indekse iz prve kolone tabele\n",
    "    '''\n",
    "    def last_to_first(self, last_col_index):\n",
    "        last_column = self.bwt_text\n",
    "        first_column = sorted(last_column[:])\n",
    "        \n",
    "        last_col_char = last_column[last_col_index]\n",
    "        \n",
    "        n = len(last_column)\n",
    "        rank = 0\n",
    "        \n",
    "        for i in range(last_col_index + 1):\n",
    "            if last_column[i] == last_col_char:\n",
    "                rank += 1\n",
    "            \n",
    "        count = 0\n",
    "        for i in range(n):\n",
    "            if first_column[i] == last_col_char:\n",
    "                count += 1\n",
    "                \n",
    "            if count == rank:\n",
    "                return i\n",
    "            \n",
    "    '''\n",
    "    Pronalaženje broja pojavljivanja zadatog šablona\n",
    "    u tekstu pomoću transformisane vrednosti\n",
    "    '''\n",
    "    def bw_matching(self, pattern):\n",
    "        last_column = self.bwt_text\n",
    "        \n",
    "        n = len(self.bwt_text)\n",
    "        top = 0\n",
    "        bottom = n - 1\n",
    "        \n",
    "        j = len(pattern) - 1\n",
    "        while top <= bottom:\n",
    "            if j < 0:\n",
    "                return bottom - top + 1\n",
    "            \n",
    "            symbol = pattern[j]\n",
    "            j -= 1\n",
    "            \n",
    "            if symbol in last_column[top : bottom + 1]:\n",
    "                first_index = None\n",
    "                last_index = None\n",
    "                \n",
    "                for i in range(top, bottom + 1):\n",
    "                    if symbol == last_column[i]:\n",
    "                        if first_index == None:\n",
    "                            first_index = i\n",
    "                        last_index = i\n",
    "                        \n",
    "                top = self.last_to_first(first_index)\n",
    "                bottom = self.last_to_first(last_index)\n",
    "                    \n",
    "            else:\n",
    "                return 0"
   ]
  },
  {
   "cell_type": "markdown",
   "id": "07af8d17",
   "metadata": {},
   "source": [
    "## Primeri"
   ]
  },
  {
   "cell_type": "code",
   "execution_count": 5,
   "id": "976b7040",
   "metadata": {},
   "outputs": [
    {
     "name": "stdout",
     "output_type": "stream",
     "text": [
      "ananas\n",
      "and\n",
      "antenna\n",
      "banana\n",
      "bandana\n",
      "nab\n",
      "nana\n",
      "pan\n"
     ]
    }
   ],
   "source": [
    "# Trie\n",
    "patterns = [\"ananas\", \"and\", \"antenna\", \"banana\", \"bandana\", \"nab\", \"nana\", \"pan\"]\n",
    "trie = Trie(patterns)\n",
    "trie.dfs(trie.root)"
   ]
  },
  {
   "cell_type": "code",
   "execution_count": 6,
   "id": "7bb152cb",
   "metadata": {},
   "outputs": [
    {
     "data": {
      "text/plain": [
       "'pan'"
      ]
     },
     "execution_count": 6,
     "metadata": {},
     "output_type": "execute_result"
    }
   ],
   "source": [
    "trie.prefix_trie_matching('panamabananas')"
   ]
  },
  {
   "cell_type": "code",
   "execution_count": 7,
   "id": "b2bcc409",
   "metadata": {},
   "outputs": [
    {
     "data": {
      "text/plain": [
       "[('pan', 0), ('banana', 6), ('nana', 8)]"
      ]
     },
     "execution_count": 7,
     "metadata": {},
     "output_type": "execute_result"
    }
   ],
   "source": [
    "trie.trie_matching('panamabananas')"
   ]
  },
  {
   "cell_type": "code",
   "execution_count": 8,
   "id": "6b447409",
   "metadata": {},
   "outputs": [
    {
     "name": "stdout",
     "output_type": "stream",
     "text": [
      "('$', 13)\n",
      "('abananas$', 5)\n",
      "('amabananas$', 3)\n",
      "('anamabananas$', 1)\n",
      "('ananas$', 7)\n",
      "('anas$', 9)\n",
      "('as$', 11)\n",
      "('bananas$', 6)\n",
      "('mabananas$', 4)\n",
      "('namabananas$', 2)\n",
      "('nanas$', 8)\n",
      "('nas$', 10)\n",
      "('panamabananas$', 0)\n",
      "('s$', 12)\n"
     ]
    }
   ],
   "source": [
    "# Suffix array\n",
    "suff_arr = SuffixArray('panamabananas')\n",
    "\n",
    "for i in range(len(suff_arr.arr)):\n",
    "    print(suff_arr.arr[i])"
   ]
  },
  {
   "cell_type": "code",
   "execution_count": 9,
   "id": "07c18c0e",
   "metadata": {},
   "outputs": [
    {
     "data": {
      "text/plain": [
       "[6]"
      ]
     },
     "execution_count": 9,
     "metadata": {},
     "output_type": "execute_result"
    }
   ],
   "source": [
    "suff_arr.pattern_matching_with_suffix_array('banana')"
   ]
  },
  {
   "cell_type": "code",
   "execution_count": 10,
   "id": "7f2b6ced",
   "metadata": {},
   "outputs": [
    {
     "name": "stdout",
     "output_type": "stream",
     "text": [
      "smnpbnnaaaaa$a\n",
      "panamabananas$\n"
     ]
    },
    {
     "data": {
      "text/plain": [
       "3"
      ]
     },
     "execution_count": 10,
     "metadata": {},
     "output_type": "execute_result"
    }
   ],
   "source": [
    "# BWT\n",
    "bwt = BWT('panamabananas')\n",
    "print(''.join(bwt.bwt_text))\n",
    "print(''.join(bwt.inverse_bwt()))\n",
    "bwt.last_to_first(6)\n",
    "bwt.bw_matching('ana')"
   ]
  }
 ],
 "metadata": {
  "kernelspec": {
   "display_name": "Python 3 (ipykernel)",
   "language": "python",
   "name": "python3"
  },
  "language_info": {
   "codemirror_mode": {
    "name": "ipython",
    "version": 3
   },
   "file_extension": ".py",
   "mimetype": "text/x-python",
   "name": "python",
   "nbconvert_exporter": "python",
   "pygments_lexer": "ipython3",
   "version": "3.8.9"
  }
 },
 "nbformat": 4,
 "nbformat_minor": 5
}
